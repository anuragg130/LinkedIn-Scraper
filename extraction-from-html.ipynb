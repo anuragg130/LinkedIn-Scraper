{
 "cells": [
  {
   "cell_type": "code",
   "execution_count": 7,
   "metadata": {
    "collapsed": true,
    "ExecuteTime": {
     "end_time": "2023-07-10T12:07:02.772187500Z",
     "start_time": "2023-07-10T12:07:02.750027300Z"
    }
   },
   "outputs": [],
   "source": [
    "from bs4 import BeautifulSoup"
   ]
  },
  {
   "cell_type": "code",
   "execution_count": 8,
   "outputs": [],
   "source": [
    "import pandas as pd"
   ],
   "metadata": {
    "collapsed": false,
    "ExecuteTime": {
     "end_time": "2023-07-10T12:07:02.784692Z",
     "start_time": "2023-07-10T12:07:02.772187500Z"
    }
   }
  },
  {
   "cell_type": "code",
   "execution_count": 9,
   "outputs": [
    {
     "name": "stdout",
     "output_type": "stream",
     "text": [
      "Table saved to Excel successfully!\n"
     ]
    },
    {
     "name": "stderr",
     "output_type": "stream",
     "text": [
      "C:\\Users\\anura\\AppData\\Local\\Temp\\ipykernel_15744\\1234841672.py:26: UserWarning: Pandas requires version '1.4.3' or newer of 'xlsxwriter' (version '1.3.2' currently installed).\n",
      "  df.to_excel(excel_file_path, index=False)\n"
     ]
    }
   ],
   "source": [
    "# Read the HTML file\n",
    "file_path = r'D:\\EY\\LinkedIn-Job-Scraper\\LinkedIn Job (4).html'  # Replace with the path to your HTML file\n",
    "with open(file_path, 'r') as file:\n",
    "    html_content = file.read()\n",
    "\n",
    "# Parse the HTML content using BeautifulSoup\n",
    "soup = BeautifulSoup(html_content, 'html.parser')\n",
    "\n",
    "# Find the table element in the HTML\n",
    "table = soup.find('table')\n",
    "\n",
    "# Extract the table headers (column names)\n",
    "headers = [header.text for header in table.find_all('th')]\n",
    "\n",
    "# Extract the table rows and their values\n",
    "rows = []\n",
    "for row in table.find_all('tr'):\n",
    "    row_data = [cell.text for cell in row.find_all('td')]\n",
    "    rows.append(row_data)\n",
    "\n",
    "# Create a Pandas DataFrame\n",
    "df = pd.DataFrame(rows, columns=headers)\n",
    "\n",
    "# Save the DataFrame to an Excel file\n",
    "excel_file_path = 'D:\\EY\\LinkedIn-Job-Scraper/output100.xlsx'  # Replace with the desired output file path\n",
    "df.to_excel(excel_file_path, index=False)\n",
    "\n",
    "print(\"Table saved to Excel successfully!\")\n"
   ],
   "metadata": {
    "collapsed": false,
    "ExecuteTime": {
     "end_time": "2023-07-10T12:07:02.816276600Z",
     "start_time": "2023-07-10T12:07:02.784692Z"
    }
   }
  },
  {
   "cell_type": "code",
   "execution_count": 9,
   "outputs": [],
   "source": [],
   "metadata": {
    "collapsed": false,
    "ExecuteTime": {
     "end_time": "2023-07-10T12:07:02.863464500Z",
     "start_time": "2023-07-10T12:07:02.816276600Z"
    }
   }
  }
 ],
 "metadata": {
  "kernelspec": {
   "display_name": "Python 3",
   "language": "python",
   "name": "python3"
  },
  "language_info": {
   "codemirror_mode": {
    "name": "ipython",
    "version": 2
   },
   "file_extension": ".py",
   "mimetype": "text/x-python",
   "name": "python",
   "nbconvert_exporter": "python",
   "pygments_lexer": "ipython2",
   "version": "2.7.6"
  }
 },
 "nbformat": 4,
 "nbformat_minor": 0
}
